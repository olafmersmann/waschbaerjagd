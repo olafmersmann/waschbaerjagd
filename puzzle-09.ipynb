{
 "cells": [
  {
   "cell_type": "markdown",
   "id": "9c02cbdd-93c9-4630-adbc-0764e7feb90c",
   "metadata": {},
   "source": [
    "# Login Passwort"
   ]
  },
  {
   "cell_type": "code",
   "execution_count": null,
   "id": "978b96d8-4187-4041-8c0a-81b55645532a",
   "metadata": {},
   "outputs": [],
   "source": [
    "from hashlib import sha256\n",
    "\n",
    "password = [\"olaf.mersmann@th-koeln.de\", # Your email address\n",
    "            \"1912\", # Year of birth of the person whose wikipedia article you visited (YYYY)\n",
    "            \"403\", # Number of \"e\"s in the message that was one-time-pad encrypted\n",
    "            \"could\", # Third word of the decrypted text from my old notes\n",
    "            \"01100100\", # All eight missing key bits you reconstructed\n",
    "            \"31\", # The first digit and then the last digit of the number you listened to\n",
    "            \"9eaedd9ba3c1722a1893a2bd46556d3f\", # The complete IV in hex representation given in my mail for the first AES CBC challenge\n",
    "            \"1952\", # According to Wikipedia\n",
    "            \"246260921608059\", # Complete RSA ciphertext of the number of raccoons from the CCTV capture\n",
    "            \"172847\", # Shared Diffie-Hellman secret of the other gang\n",
    "           ]\n",
    "msg = \"\".join(password).encode(\"ASCII\")\n",
    "x = sha256(msg).hexdigest()\n",
    "x[:20]"
   ]
  },
  {
   "cell_type": "code",
   "execution_count": null,
   "id": "44193fbd-43ba-43d0-94b8-738c4791476b",
   "metadata": {},
   "outputs": [],
   "source": []
  }
 ],
 "metadata": {
  "kernelspec": {
   "display_name": "Python 3 (ipykernel)",
   "language": "python",
   "name": "python3"
  },
  "language_info": {
   "codemirror_mode": {
    "name": "ipython",
    "version": 3
   },
   "file_extension": ".py",
   "mimetype": "text/x-python",
   "name": "python",
   "nbconvert_exporter": "python",
   "pygments_lexer": "ipython3",
   "version": "3.10.9"
  }
 },
 "nbformat": 4,
 "nbformat_minor": 5
}
