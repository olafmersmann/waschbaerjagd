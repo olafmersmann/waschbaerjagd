{
 "cells": [
  {
   "cell_type": "markdown",
   "id": "2e6aad7d-2fea-4013-a6d1-e37f738bfb21",
   "metadata": {},
   "source": [
    "# Substitutionschiffre"
   ]
  },
  {
   "cell_type": "code",
   "execution_count": null,
   "id": "2e6afb0a-7cea-4675-916c-d378529ff7fd",
   "metadata": {},
   "outputs": [],
   "source": [
    "import numpy as np\n",
    "import matplotlib.pyplot as plt\n",
    "\n",
    "from itertools import permutations\n",
    "from urllib.request import urlopen"
   ]
  },
  {
   "cell_type": "code",
   "execution_count": null,
   "id": "32538a45-1406-425f-a2fd-c82d6770b18c",
   "metadata": {
    "jupyter": {
     "source_hidden": true
    },
    "tags": []
   },
   "outputs": [],
   "source": [
    "raw = \"\"\",tar'tirwtie?r?hw:'vnrn;l,rkh,,u.hrtzrkhgru:hr'tir;uvv's\n",
    "yhr?l?r tnrhfh r,nu:nr'hnr,tr?tr tnr.hnrhpwlnh?ructinrlng\n",
    "lrytie?rchrxilnhr,i:v:l,h?rlzr'tiryh:hrucehrntr\"hhvrivryln;rk'rw;ueeh .h,a\n",
    "ntrchr;t h,ngrlr;ufhrchh ru:ti ?rzt:rxilnhrury;lehr tyru ?rfh:'\n",
    "zhyrvhtvehrku?hrlnrzu:ggg\n",
    "chzt:hryhrv:twhh?arzhherz:hhrntr:hu?rn;l,rhpwh:vnrz:tkrur tfhem\n",
    "\n",
    "\n",
    "zu:rtinrl rn;hri w;u:nh?rcuw\"yunh:,rtzrn;hri zu,;lt ucehrh ?rtz\n",
    "n;hryh,nh: r,vl:ueru:krtzrn;hr.ueup'relh,rur,kueeri :h.u:?h?\n",
    "'heetyr,i g\n",
    "t:clnl .rn;l,runrur?l,nu whrtzr:ti.;e'r l hn'qnytrkleelt rkleh,rl,\n",
    "u rinnh:e'rl ,l. lzlwu nrelnnehrceihr.:hh rveu hnry;t,hruvhq\n",
    "?h,wh ?h?relzhrzt:k,ru:hr,trukubl .e'rv:lklnlfhrn;unrn;h'r,nlee\n",
    "n;l \"r?l.lnueryunw;h,ru:hrurv:hnn'r hunrl?hug\n",
    "n;l,rveu hnr;u,rqrt:r:un;h:r;u?rqrurv:tcehkary;lw;ryu,rn;l,mrkt,n\n",
    "tzrn;hrvhtvehrt rlnryh:hri ;uvv'rzt:rv:hnn'rkiw;rtzrn;hrnlkhg\n",
    "ku 'r,teinlt ,ryh:hr,i..h,nh?rzt:rn;l,rv:tcehkarcinrkt,nrtz\n",
    "n;h,hryh:hreu:.he'rwt wh: h?ryln;rn;hrktfhkh n,rtzr,kueer.:hh \n",
    "vlhwh,rtzrvuvh:ary;lw;rl,rt??rchwui,hrt rn;hry;tehrlnryu, onrn;h\n",
    ",kueer.:hh rvlhwh,rtzrvuvh:rn;unryh:hri ;uvv'g\n",
    "u ?r,trn;hrv:tcehkr:hkul h?-retn,rtzrn;hrvhtvehryh:hrkhu aru ?\n",
    "kt,nrtzrn;hkryh:hrkl,h:uceharhfh rn;hrt h,ryln;r?l.lnueryunw;h,g\n",
    "ku 'ryh:hrl w:hu,l .e'rtzrn;hrtvl lt rn;unrn;h'o?rueerku?hrurcl.\n",
    "kl,nu\"hrl rwtkl .r?ty rz:tkrn;hrn:hh,rl rn;hrzl:,nrveuwhgru ?\n",
    ",tkhr,ul?rn;unrhfh rn;hrn:hh,r;u?rchh rurcu?rktfharu ?rn;unr t\n",
    "t hr,;tie?rhfh:r;ufhrehznrn;hrtwhu ,g\n",
    "u ?rn;h art hrn;i:,?u'ar hu:e'rnytrn;ti,u ?r'hu:,ruznh:rt h\n",
    "ku r;u?rchh r uleh?rntrurn:hhrzt:r,u'l .r;tyr.:hunrlnrytie?rchrnt\n",
    "chr lwhrntrvhtvehrzt:rurw;u .hart hr.l:er,lnnl .rt r;h:rty rl ru\n",
    ",kueerwuzhrl r:lw\"ku ,yt:n;r,i??h e'r:huelbh?ry;unrlnryu,rn;un\n",
    ";u?rchh r.tl .ry:t .rueern;l,rnlkharu ?r,;hrzl uee'r\" hyr;tyrn;h\n",
    "yt:e?rwtie?rchrku?hrur.tt?ru ?r;uvv'rveuwhgrn;l,rnlkhrlnryu,\n",
    ":l.;narlnrytie?ryt:\"aru ?r trt hrytie?r;ufhrntr.hnr uleh?rnt\n",
    "u 'n;l .g\n",
    ",u?e'ar;tyhfh:archzt:hr,;hrwtie?r.hnrntrurv;t hrntrnheeru 't hq\n",
    "uctinrlnarurnh::lce'r,nivl?rwunu,n:tv;hrtwwi::h?aru ?rn;hrl?huryu,\n",
    "et,nrzt:hfh:g\n",
    "n;l,rl,r tnr;h:r,nt:'g\n",
    "cinrlnrl,rn;hr,nt:'rtzrn;unrnh::lcehr,nivl?rwunu,n:tv;hru ?r,tkhrtz\n",
    "ln,rwt ,hxih wh,g\n",
    "lnrl,rue,trn;hr,nt:'rtzrurctt\"arurctt\"rwueeh?rn;hr;lnw;r;l\"h:o,\n",
    ".il?hrntrn;hr.ueup'rqr tnru rhu:n;rctt\"ar hfh:rvicel,;h?rt \n",
    "hu:n;aru ?ri nlern;hrnh::lcehrwunu,n:tv;hrtwwi::h?ar hfh:r,hh rt:\n",
    ";hu:?rtzrc'ru 'rhu:n;ku g\n",
    " hfh:n;heh,,arury;tee'r:hku:\"ucehrctt\"g\n",
    "l rzuwnrlnryu,rv:tcuce'rn;hrkt,nr:hku:\"ucehrctt\"rhfh:rntrwtkh\n",
    "tinrtzrn;hr.:hunrvicel,;l .r;ti,h,rtzri:,urkl t:rqrtzry;lw;r t\n",
    "hu:n;ku r;u?rhfh:r;hu:?rhln;h:g\n",
    " tnrt e'rl,rlnrury;tee'r:hku:\"ucehrctt\"arlnrl,rue,trur;l.;e'\n",
    ",iwwh,,ziert hrqrkt:hrvtvieu:rn;u rn;hrwheh,nluer;tkhrwu:h\n",
    "tk lci,archnnh:r,heel .rn;u rzlzn'rkt:hrn;l .,rntr?trl rbh:t\n",
    ".:ufln'aru ?rkt:hrwt n:tfh:,luern;u rttet rwteeiv;l?o,rn:let.'rtz\n",
    "v;let,tv;lwuercetw\"ci,nh:,ry;h:hr.t?ryh nry:t .ar,tkhrkt:h\n",
    "tzr.t?o,r.:hunh,nrkl,nu\"h,ru ?ry;trl,rn;l,r.t?rvh:,t ru 'yu's\n",
    "l rku 'rtzrn;hrkt:hr:heuph?rwlflelbunlt ,rt rn;hrtinh:rhu,nh: \n",
    ":lkrtzrn;hr.ueup'arn;hr;lnw;r;l\"h:o,r.il?hr;u,rue:hu?'\n",
    ",ivveu nh?rn;hr.:hunrh w'wetvh?lur.ueuwnlwuru,rn;hr,nu ?u:?\n",
    ":hvt,lnt:'rtzrueer\" tyeh?.hru ?ryl,?tkarzt:rn;ti.;rlnr;u,rku '\n",
    "tkl,,lt ,ru ?rwt nul ,rkiw;rn;unrl,ruvtw:'v;ueart:runrehu,nryle?e'\n",
    "l uwwi:unharlnr,wt:h,rtfh:rn;hrte?h:arkt:hrvh?h,n:lu ryt:\"rl rnyt\n",
    "lkvt:nu nr:h,vhwn,g\n",
    "zl:,narlnrl,r,el.;ne'rw;huvh:-ru ?r,hwt ?e'rlnr;u,rn;hryt:?,r?t on\n",
    "vu lwrl ,w:lch?rl reu:.hrz:lh ?e'rehnnh:,rt rln,rwtfh:g\n",
    "cinrn;hr,nt:'rtzrn;l,rnh::lcehar,nivl?rn;i:,?u'arn;hr,nt:'rtzrln,\n",
    "hpn:ut:?l u:'rwt ,hxih wh,aru ?rn;hr,nt:'rtzr;tyrn;h,h\n",
    "wt ,hxih wh,ru:hrl hpn:lwuce'rl nh:nyl h?ryln;rn;l,r:hku:\"uceh\n",
    "ctt\"rch.l ,rfh:'r,lkve'g\n",
    "lnrch.l ,ryln;rur;ti,hg\n",
    "\n",
    "\n",
    "\n",
    "lzr'tir:huee'rn;l \"r'tirwu rchunrkhru ?ryu nrntrwt nl ihm\n",
    "\n",
    "nu\"hrn;hr ikch:rtzrdhd,rl rn;hr?hw:'vnh?rkh,,u.ha\n",
    "n;h r,ic,n:uwnrn;hr ikch:rtzrdnd,rl rn;hr?hw:'vnh?rkh,,u.hg\n",
    "n;h ru??rn;hr ikch:rtzrdud,rl rn;hr?hw:'vnh?rkh,,u.ha\n",
    "n;h r,ic,n:uwnrn;hr ikch:rtzrdtd,rl rn;hr?hw:'vnh?rkh,,u.hg\n",
    "n;h ru??rn;hr ikch:rtzrdld,rl rn;hr?hw:'vnh?rkh,,u.ha\n",
    "zl uee'ar,ic,n:uwnrn;hr ikch:rtzrd d,rl rn;hr?hw:'vnh?rkh,,u.hg\n",
    "wti nrueerehnnh:,grehufhrtinrt e'rn;hrehnnh:,rl rn;hryl\"lvh?lurel \"g\n",
    "\n",
    "u??r1086rntrn;l,r ikch:rntrtcnul rn;hrzl uer:h,ieng\n",
    " tyrfl,lnrn;hryhc,lnhr,nunh?r hpnru ?r:hve'rntrn;l,rkule\n",
    "yln;rn;hreu,nr ukhrtzrn;hrvh:,t rn;l,r lwhru:nlwehrl,ructing\"\"\""
   ]
  },
  {
   "cell_type": "code",
   "execution_count": null,
   "id": "a9d4e6c8-aa57-4dbe-8f77-0a1ba99b1e20",
   "metadata": {},
   "outputs": [],
   "source": [
    "def fetchBook(url):\n",
    "    with urlopen(url) as fd:\n",
    "        text = fd.read().decode(\"utf-8\").replace(\"\\xa0\", \" \").lower()\n",
    "        return \" \".join(text.split(\"\\r\\n\"))[1:] # Remove BOM\n",
    "    \n",
    "ENG = fetchBook(\"https://www.gutenberg.org/cache/epub/394/pg394.txt\").lower()\n",
    "DEU = fetchBook(\"https://www.gutenberg.org/cache/epub/6343/pg6343.txt\").lower()"
   ]
  },
  {
   "cell_type": "code",
   "execution_count": null,
   "id": "4f122fcf-4924-4a5f-b05a-407cac545973",
   "metadata": {},
   "outputs": [],
   "source": [
    "def similarity(a, b):\n",
    "    return np.dot(a, b)/(np.linalg.norm(a) * np.linalg.norm(b))"
   ]
  },
  {
   "cell_type": "code",
   "execution_count": null,
   "id": "f72e2877-3a89-4c66-88e5-bb7dfe36c628",
   "metadata": {},
   "outputs": [],
   "source": [
    "def ngrams(s, n):\n",
    "    for line in s.split(\"\\n\"):\n",
    "        for ngram in [line[i:(i+n)] for i in range(len(line) - n)]:\n",
    "            yield ngram"
   ]
  },
  {
   "cell_type": "code",
   "execution_count": null,
   "id": "9060e87a-d85a-45db-8402-37a551caa803",
   "metadata": {},
   "outputs": [],
   "source": [
    "alphabet = np.unique(list(ngrams(ENG, 1)))\n",
    "\n",
    "GRAMMAP = {}\n",
    "for ia, a in enumerate(alphabet):\n",
    "    for ib, b in enumerate(alphabet):\n",
    "        for ic, c in enumerate(alphabet):\n",
    "            i = ia + ib * len(alphabet) + ic * len(alphabet)**2\n",
    "            GRAMMAP[f\"{a}{b}{c}\"] = i\n",
    "            \n",
    "def gramVector(text):\n",
    "    x = np.zeros(len(GRAMMAP))\n",
    "    for g in ngrams(text, 3):\n",
    "        x[GRAMMAP[g]] += 1\n",
    "    return x"
   ]
  },
  {
   "cell_type": "code",
   "execution_count": null,
   "id": "4f6a8fc9-8dd6-4df5-ab53-d58c0ef94961",
   "metadata": {},
   "outputs": [],
   "source": [
    "x = gramVector(ENG)"
   ]
  },
  {
   "cell_type": "code",
   "execution_count": null,
   "id": "78d6858f-cab5-436b-b46d-027392a747e1",
   "metadata": {},
   "outputs": [],
   "source": [
    "msg_alphabet = np.unique(list(ngrams(raw, 1)))\n",
    "\n",
    "xlat = dict(zip(msg_alphabet, msg_alphabet))\n",
    "xlat[' '], xlat['r'] = xlat['r'], xlat[' ']\n",
    "\n",
    "bestSim =  similarity(x, gramVector(raw.translate(str.maketrans(xlat))))\n",
    "bestXlat = xlat.copy()"
   ]
  },
  {
   "cell_type": "code",
   "execution_count": null,
   "id": "289ab303-4c93-4ad6-ab2f-91e8f417a14e",
   "metadata": {},
   "outputs": [],
   "source": [
    "while bestSim < 0.7:\n",
    "    p, q = np.random.choice(msg_alphabet, 2)\n",
    "    xlat[p], xlat[q] = xlat[q], xlat[p]    \n",
    "    sim = similarity(x, gramVector(raw.translate(str.maketrans(xlat))))    \n",
    "    if sim > bestSim:\n",
    "        print(bestSim)\n",
    "        bestSim = sim\n",
    "        bestXlat = xlat.copy()    \n",
    "    elif sim < bestSim:\n",
    "        xlat[p], xlat[q] = xlat[q], xlat[p]    "
   ]
  },
  {
   "cell_type": "code",
   "execution_count": null,
   "id": "1df45ce6-2cb2-4a70-b707-b8ebe330764c",
   "metadata": {},
   "outputs": [],
   "source": [
    "bestXlat[','] = 's'\n",
    "bestXlat['k'] = 'm'\n",
    "bestXlat['v'] = 'p'\n",
    "bestXlat['a'] = ','\n",
    "bestXlat['g'] = '.'\n",
    "bestXlat['m'] = ':'\n",
    "bestXlat['\"'] = 'k'\n",
    "bestXlat['d'] = \"'\"\n",
    "for i in ['1', '0', '8', '6']:\n",
    "    bestXlat[i] = i"
   ]
  },
  {
   "cell_type": "code",
   "execution_count": null,
   "id": "5e5bffcb-33ff-440b-84df-70a3b1b0634f",
   "metadata": {},
   "outputs": [],
   "source": [
    "plain = raw.translate(str.maketrans(bestXlat))\n",
    "print(plain)"
   ]
  },
  {
   "cell_type": "code",
   "execution_count": null,
   "id": "ebe0491a-b5ab-4033-9d7b-58a5d08d7f42",
   "metadata": {},
   "outputs": [],
   "source": [
    "z = np.array(list(ngrams(plain, 1)))\n",
    "for p in permutations([\"0\", \"1\", \"6\", \"8\"]):\n",
    "    id = int(\"\".join(p)) + np.sum(z == 'e') - np.sum(z == 't') + np.sum(z == 'a') - np.sum(z == 'o') + np.sum(z == 'i') - np.sum(z == 'n')\n",
    "    print(f\"https://en.wikipedia.org/wiki/index.php?curid={id}\")"
   ]
  },
  {
   "cell_type": "code",
   "execution_count": null,
   "id": "87b5e544-dbb0-43ce-9fcb-7150757f3d91",
   "metadata": {},
   "outputs": [],
   "source": [
    "np.sum(z == 'e')"
   ]
  },
  {
   "cell_type": "code",
   "execution_count": null,
   "id": "9d98856c-d7f4-42d7-8d24-addb14f58b2b",
   "metadata": {},
   "outputs": [],
   "source": [
    "np.sum(z == 't')"
   ]
  },
  {
   "cell_type": "code",
   "execution_count": null,
   "id": "f78330d4-ae0a-4713-83ec-eeaafc95faa1",
   "metadata": {},
   "outputs": [],
   "source": [
    "np.sum(z == 'a')"
   ]
  },
  {
   "cell_type": "code",
   "execution_count": null,
   "id": "65b6cd42-d500-4717-9292-14d453278842",
   "metadata": {},
   "outputs": [],
   "source": [
    "np.sum(z == 'o')"
   ]
  },
  {
   "cell_type": "code",
   "execution_count": null,
   "id": "6dbf8768-2445-47f4-a6bf-4a3802c4e0b2",
   "metadata": {},
   "outputs": [],
   "source": [
    "np.sum(z == 'i')"
   ]
  },
  {
   "cell_type": "code",
   "execution_count": null,
   "id": "c5a333d7-e044-4717-8b82-8957af145c7c",
   "metadata": {},
   "outputs": [],
   "source": [
    "np.sum(z == 'n')"
   ]
  },
  {
   "cell_type": "code",
   "execution_count": null,
   "id": "ffd8d57f-9ec6-4240-82ea-bd4fe92ce040",
   "metadata": {},
   "outputs": [],
   "source": [
    "1086 + 443 - 330 + 265 - 258 + 220 - 215"
   ]
  }
 ],
 "metadata": {
  "kernelspec": {
   "display_name": "Python 3 (ipykernel)",
   "language": "python",
   "name": "python3"
  },
  "language_info": {
   "codemirror_mode": {
    "name": "ipython",
    "version": 3
   },
   "file_extension": ".py",
   "mimetype": "text/x-python",
   "name": "python",
   "nbconvert_exporter": "python",
   "pygments_lexer": "ipython3",
   "version": "3.10.8"
  }
 },
 "nbformat": 4,
 "nbformat_minor": 5
}
