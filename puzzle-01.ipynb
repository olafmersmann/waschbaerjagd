{
 "cells": [
  {
   "cell_type": "markdown",
   "id": "2e6aad7d-2fea-4013-a6d1-e37f738bfb21",
   "metadata": {},
   "source": [
    "# Substitutionschiffre"
   ]
  },
  {
   "cell_type": "code",
   "execution_count": null,
   "id": "2e6afb0a-7cea-4675-916c-d378529ff7fd",
   "metadata": {},
   "outputs": [],
   "source": [
    "import numpy as np\n",
    "from functools import lru_cache\n",
    "\n",
    "from collections import defaultdict\n",
    "from itertools import permutations\n",
    "from urllib.request import urlopen"
   ]
  },
  {
   "cell_type": "code",
   "execution_count": null,
   "id": "32538a45-1406-425f-a2fd-c82d6770b18c",
   "metadata": {
    "tags": []
   },
   "outputs": [],
   "source": [
    "raw = \"\"\"'vk iv? nv?tz zbnpixh hr-' yb''o:b v, yba opb iv? roxxis\n",
    "wb z-z evh bqbe 'hoph ibh 'v zv evh :bh bdn-hbz o;v?h -ha\n",
    "- wv?tz ;b c?-hb '?pxp-'bz -, iv? wbpb o;tb hv .bbx ?x w-hr yi nrottbe:b'k\n",
    "hv ;b rveb'ha - roqb ;bbe opv?ez ,vp c?-hb o wr-tb evw oez qbpi\n",
    ",bw xbvxtb yozb -h ,opaaa\n",
    ";b,vpb wb xpvnbbzk ,bbt ,pbb hv pboz hr-' bdnbpxh ,pvy o evqbtu\n",
    "\n",
    "\n",
    ",op v?h -e hrb ?enrophbz ;on.wohbp' v, hrb ?e,o'r-veo;tb bez v,\n",
    "hrb wb'hbpe 'x-pot opy v, hrb :otodi t-b' o 'yott ?epb:opzbz\n",
    "ibttvw '?ea\n",
    "vp;-h-e: hr-' oh o z-'hoenb v, pv?:rti e-ebhimhwv y-tt-ve y-tb' -'\n",
    "oe ?hhbpti -e'-:e-,-noeh t-hhtb ;t?b :pbbe xtoebh wrv'b oxbm\n",
    "zb'nbezbz t-,b ,vpy' opb 'v oyol-e:ti xp-y-h-qb hroh hrbi 'h-tt\n",
    "hr-e. z-:-hot wohnrb' opb o xpbhhi eboh -zboa\n",
    "hr-' xtoebh ro' m vp pohrbp roz m o xpv;tbyk wr-nr wo' hr-'u yv'h\n",
    "v, hrb xbvxtb ve -h wbpb ?eroxxi ,vp xpbhhi y?nr v, hrb h-yba\n",
    "yoei 'vt?h-ve' wbpb '?::b'hbz ,vp hr-' xpv;tbyk ;?h yv'h v,\n",
    "hrb'b wbpb top:bti nvenbpebz w-hr hrb yvqbybeh' v, 'yott :pbbe\n",
    "x-bnb' v, xoxbpk wr-nr -' vzz ;bno?'b ve hrb wrvtb -h wo'egh hrb\n",
    "'yott :pbbe x-bnb' v, xoxbp hroh wbpb ?eroxxia\n",
    "oez 'v hrb xpv;tby pbyo-ebzf tvh' v, hrb xbvxtb wbpb yboek oez\n",
    "yv'h v, hrby wbpb y-'bpo;tbk bqbe hrb veb' w-hr z-:-hot wohnrb'a\n",
    "yoei wbpb -enpbo'-e:ti v, hrb vx-e-ve hroh hrbigz ott yozb o ;-:\n",
    "y-'ho.b -e nvy-e: zvwe ,pvy hrb hpbb' -e hrb ,-p'h xtonba oez\n",
    "'vyb 'o-z hroh bqbe hrb hpbb' roz ;bbe o ;oz yvqbk oez hroh ev\n",
    "veb 'rv?tz bqbp roqb tb,h hrb vnboe'a\n",
    "oez hrbek veb hr?p'zoik ebopti hwv hrv?'oez ibop' o,hbp veb\n",
    "yoe roz ;bbe eo-tbz hv o hpbb ,vp 'oi-e: rvw :pboh -h wv?tz ;b hv\n",
    ";b e-nb hv xbvxtb ,vp o nroe:bk veb :-pt '-hh-e: ve rbp vwe -e o\n",
    "'yott no,b -e p-n.yoe'wvphr '?zzbeti pbot-lbz wroh -h wo' hroh\n",
    "roz ;bbe :v-e: wpve: ott hr-' h-ybk oez 'rb ,-eotti .ebw rvw hrb\n",
    "wvptz nv?tz ;b yozb o :vvz oez roxxi xtonba hr-' h-yb -h wo'\n",
    "p-:rhk -h wv?tz wvp.k oez ev veb wv?tz roqb hv :bh eo-tbz hv\n",
    "oeihr-e:a\n",
    "'oztik rvwbqbpk ;b,vpb 'rb nv?tz :bh hv o xrveb hv hbtt oeivebm\n",
    "o;v?h -hk o hbpp-;ti 'h?x-z noho'hpvxrb vnn?ppbzk oez hrb -zbo wo'\n",
    "tv'h ,vpbqbpa\n",
    "hr-' -' evh rbp 'hvpia\n",
    ";?h -h -' hrb 'hvpi v, hroh hbpp-;tb 'h?x-z noho'hpvxrb oez 'vyb v,\n",
    "-h' nve'bc?benb'a\n",
    "-h -' ot'v hrb 'hvpi v, o ;vv.k o ;vv. nottbz hrb r-hnr r-.bpg'\n",
    ":?-zb hv hrb :otodi m evh oe bophr ;vv.k ebqbp x?;t-'rbz ve\n",
    "bophrk oez ?eh-t hrb hbpp-;tb noho'hpvxrb vnn?ppbzk ebqbp 'bbe vp\n",
    "rbopz v, ;i oei bophryoea\n",
    "ebqbphrbtb''k o wrvtti pbyop.o;tb ;vv.a\n",
    "-e ,onh -h wo' xpv;o;ti hrb yv'h pbyop.o;tb ;vv. bqbp hv nvyb\n",
    "v?h v, hrb :pboh x?;t-'r-e: rv?'b' v, ?p'o y-evp m v, wr-nr ev\n",
    "bophryoe roz bqbp rbopz b-hrbpa\n",
    "evh veti -' -h o wrvtti pbyop.o;tb ;vv.k -h -' ot'v o r-:rti\n",
    "'?nnb'',?t veb m yvpb xvx?top hroe hrb nbtb'h-ot rvyb nopb\n",
    "vye-;?'k ;bhhbp 'btt-e: hroe ,-,hi yvpb hr-e:' hv zv -e lbpv\n",
    ":poq-hik oez yvpb nvehpvqbp'-ot hroe vvtve nvtt?xr-zg' hp-tv:i v,\n",
    "xr-tv'vxr-not ;tvn.;?'hbp' wrbpb :vz wbeh wpve:k 'vyb yvpb\n",
    "v, :vzg' :pbohb'h y-'ho.b' oez wrv -' hr-' :vz xbp've oeiwois\n",
    "-e yoei v, hrb yvpb pbtodbz n-q-t-loh-ve' ve hrb v?hbp bo'hbpe\n",
    "p-y v, hrb :otodik hrb r-hnr r-.bpg' :?-zb ro' otpbozi\n",
    "'?xxtoehbz hrb :pboh benintvxbz-o :otonh-no o' hrb 'hoezopz\n",
    "pbxv'-hvpi v, ott .evwtbz:b oez w-'zvyk ,vp hrv?:r -h ro' yoei\n",
    "vy-''-ve' oez nveho-e' y?nr hroh -' oxvnpixrotk vp oh tbo'h w-tzti\n",
    "-eonn?pohbk -h 'nvpb' vqbp hrb vtzbpk yvpb xbzb'hp-oe wvp. -e hwv\n",
    "-yxvphoeh pb'xbnh'a\n",
    ",-p'hk -h -' 't-:rhti nrboxbpf oez 'bnvezti -h ro' hrb wvpz' zvegh\n",
    "xoe-n -e'np-;bz -e top:b ,p-bezti tbhhbp' ve -h' nvqbpa\n",
    ";?h hrb 'hvpi v, hr-' hbpp-;tbk 'h?x-z hr?p'zoik hrb 'hvpi v, -h'\n",
    "bdhpovpz-eopi nve'bc?benb'k oez hrb 'hvpi v, rvw hrb'b\n",
    "nve'bc?benb' opb -ebdhp-no;ti -ehbphw-ebz w-hr hr-' pbyop.o;tb\n",
    ";vv. ;b:-e' qbpi '-yxtia\n",
    "-h ;b:-e' w-hr o rv?'ba\n",
    "\n",
    "\n",
    "-, iv? pbotti hr-e. iv? noe ;boh yi nrottbe:b' oez woeh hv nveh-e?bu\n",
    "ho.b hrb 'yottb'h xp-yb e?y;bp w-hr hrpbb z-:-h'k hroh -' o xot-ezpvyb\n",
    "oez nveho-e' hrb z-:-h ,-qba y?th-xti hroh e?y;bp ;i b-:rha\n",
    "evw q-'-h hrb wb;'-hb 'hohbz ebdh oez pbxti hv hr-' yo-t\n",
    "w-hr hrb to'h eoyb v, hrb xbp've hr-' oph-ntb -' o;v?ha\"\"\""
   ]
  },
  {
   "cell_type": "code",
   "execution_count": null,
   "id": "a9d4e6c8-aa57-4dbe-8f77-0a1ba99b1e20",
   "metadata": {},
   "outputs": [],
   "source": [
    "@lru_cache(maxsize=10)\n",
    "def fetchBook(url):\n",
    "    with urlopen(url) as fd:\n",
    "        text = fd.read().decode(\"utf-8\").replace(\"\\xa0\", \" \").lower()\n",
    "        return \" \".join(text.split(\"\\r\\n\"))[1:] # Remove BOM\n",
    "    \n",
    "ENG = fetchBook(\"https://www.gutenberg.org/cache/epub/394/pg394.txt\").lower()\n",
    "#DEU = fetchBook(\"https://www.gutenberg.org/cache/epub/6343/pg6343.txt\").lower()"
   ]
  },
  {
   "cell_type": "code",
   "execution_count": null,
   "id": "f72e2877-3a89-4c66-88e5-bb7dfe36c628",
   "metadata": {},
   "outputs": [],
   "source": [
    "def ngrams(s, n):\n",
    "    for line in s.split(\"\\n\"):\n",
    "        for ngram in [line[i:(i+n)] for i in range(len(line) - n)]:\n",
    "            yield ngram"
   ]
  },
  {
   "cell_type": "code",
   "execution_count": null,
   "id": "9060e87a-d85a-45db-8402-37a551caa803",
   "metadata": {},
   "outputs": [],
   "source": [
    "logLik = defaultdict(int)\n",
    "total = 0\n",
    "for ngram in ngrams(ENG, 4):\n",
    "    logLik[ngram] += 1\n",
    "    total += 1\n",
    "    \n",
    "for ngram in logLik.keys():\n",
    "    logLik[ngram] = np.log(logLik[ngram] / total)"
   ]
  },
  {
   "cell_type": "code",
   "execution_count": null,
   "id": "abb87345-d68c-4cbe-b6ff-fc95cda58eec",
   "metadata": {},
   "outputs": [],
   "source": [
    "def likelihood(text):\n",
    "    ll = 0.0\n",
    "    for ngram in ngrams(text, 4):\n",
    "        ll += logLik[ngram]\n",
    "    return ll"
   ]
  },
  {
   "cell_type": "code",
   "execution_count": null,
   "id": "aff47c23-532d-4da3-8569-d76a6419fc75",
   "metadata": {},
   "outputs": [],
   "source": [
    "raw[:20]"
   ]
  },
  {
   "cell_type": "code",
   "execution_count": null,
   "id": "1d48e108-33de-432b-bdd2-2cfec0b64356",
   "metadata": {},
   "outputs": [],
   "source": [
    "abc = [\"a\", \"b\", \"c\", \"d\", \"e\", \"f\", \"g\", \"h\", \"i\", \"j\", \"k\", \"l\", \"m\", \"n\", \"o\", \"p\", \"q\", \"r\", \"s\", \"t\", \"u\", \"v\", \"w\", \"x\", \"y\", \"z\"]\n",
    "msg_alphabet = np.unique(list(ngrams(raw, 1)) + abc)\n",
    "msg_alphabet"
   ]
  },
  {
   "cell_type": "code",
   "execution_count": null,
   "id": "30e32867-3724-4af0-8992-9e2560f066dc",
   "metadata": {},
   "outputs": [],
   "source": [
    "xlat = dict(zip(msg_alphabet, msg_alphabet))\n",
    "xlat[\"'\"], xlat['s'] = xlat['s'], xlat[\"'\"]\n",
    "xlat[\"k\"], xlat[','] = xlat[','], xlat[\"k\"]\n",
    "\n",
    "bestLL = likelihood(raw.translate(str.maketrans(xlat)))\n",
    "bestXlat = xlat.copy()"
   ]
  },
  {
   "cell_type": "code",
   "execution_count": null,
   "id": "289ab303-4c93-4ad6-ab2f-91e8f417a14e",
   "metadata": {},
   "outputs": [],
   "source": [
    "%%time\n",
    "\n",
    "for i in range(5):\n",
    "    xlat = dict(zip(msg_alphabet, msg_alphabet))\n",
    "    xlat[\"'\"], xlat['s'] = xlat['s'], xlat[\"'\"]\n",
    "    xlat[\"k\"], xlat[','] = xlat[','], xlat[\"k\"]\n",
    "    stall = False\n",
    "    while not stall:\n",
    "        stall = True\n",
    "        for p in np.random.permutation(msg_alphabet):\n",
    "            for q in np.random.permutation(msg_alphabet):\n",
    "                if p == q:\n",
    "                    next\n",
    "                xlat[p], xlat[q] = xlat[q], xlat[p]    \n",
    "                ll = likelihood(raw.translate(str.maketrans(xlat)))\n",
    "                if ll < bestLL:            \n",
    "                    bestLL, bestXlat = ll, xlat.copy()\n",
    "                    stall = False\n",
    "                elif ll > bestLL:                    \n",
    "                    xlat[p], xlat[q] = xlat[q], xlat[p]\n",
    "    print(f\"Attempt {i}: {bestLL}\")"
   ]
  },
  {
   "cell_type": "code",
   "execution_count": null,
   "id": "5e5bffcb-33ff-440b-84df-70a3b1b0634f",
   "metadata": {},
   "outputs": [],
   "source": [
    "plain = raw.translate(str.maketrans(bestXlat))\n",
    "print(plain)"
   ]
  },
  {
   "cell_type": "code",
   "execution_count": null,
   "id": "c18a9cbc-0771-4cac-be91-ac944305b88b",
   "metadata": {},
   "outputs": [],
   "source": [
    "N = 151\n",
    "print(f\"https://en.wikipedia.org/wiki/index.php?curid={N * 8}\")"
   ]
  },
  {
   "cell_type": "code",
   "execution_count": null,
   "id": "87b5e544-dbb0-43ce-9fcb-7150757f3d91",
   "metadata": {},
   "outputs": [],
   "source": [
    "np.sum([c == 'e' for c in plain])"
   ]
  },
  {
   "cell_type": "code",
   "execution_count": null,
   "id": "07e0e028-aac4-4438-bd9a-e67d6b462688",
   "metadata": {},
   "outputs": [],
   "source": []
  }
 ],
 "metadata": {
  "kernelspec": {
   "display_name": "Python 3 (ipykernel)",
   "language": "python",
   "name": "python3"
  },
  "language_info": {
   "codemirror_mode": {
    "name": "ipython",
    "version": 3
   },
   "file_extension": ".py",
   "mimetype": "text/x-python",
   "name": "python",
   "nbconvert_exporter": "python",
   "pygments_lexer": "ipython3",
   "version": "3.10.9"
  }
 },
 "nbformat": 4,
 "nbformat_minor": 5
}
