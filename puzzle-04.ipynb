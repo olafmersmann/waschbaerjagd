{
 "cells": [
  {
   "cell_type": "code",
   "execution_count": null,
   "id": "efe89340-d183-4e31-bc5a-5befb3f341d8",
   "metadata": {},
   "outputs": [],
   "source": [
    "from binascii import a2b_hex\n",
    "\n",
    "from Crypto.Cipher import AES"
   ]
  },
  {
   "cell_type": "code",
   "execution_count": null,
   "id": "e2ee83f7-f223-43db-b9ad-aae83f61f7e0",
   "metadata": {},
   "outputs": [],
   "source": [
    "ciphertext = a2b_hex(\"24ed846351343190e49bbb1e1de6af60\")\n",
    "rawkey = \"11001110000101110000010101110111111000001100111110010010001110101100111000111111010001001011101110010011000010000010111000000000\"\n",
    "key = [0x00] * 16\n",
    "for i, byte in enumerate([rawkey[i:(i+8)] for i in range(0, len(rawkey), 8)]):\n",
    "    key[i] = int(byte, 2)"
   ]
  },
  {
   "cell_type": "code",
   "execution_count": null,
   "id": "211ce66a-c18c-4451-8d3b-bc4e7bb7c40d",
   "metadata": {},
   "outputs": [],
   "source": [
    "for k in range(256):\n",
    "    key[15] = k\n",
    "    cipher = AES.new(bytes(key), AES.MODE_ECB)\n",
    "    print(f\"{k:08b}: {cipher.decrypt(ciphertext)}\")"
   ]
  },
  {
   "cell_type": "code",
   "execution_count": null,
   "id": "7eb3d7ca-e666-4b25-8d1f-7df45db8bc0c",
   "metadata": {},
   "outputs": [],
   "source": [
    "cipher.decrypt(ciphertext)"
   ]
  },
  {
   "cell_type": "code",
   "execution_count": null,
   "id": "9b88bf25-b090-475a-b7e3-e4814c07ce3d",
   "metadata": {},
   "outputs": [],
   "source": []
  },
  {
   "cell_type": "code",
   "execution_count": null,
   "id": "2f9515a7-5da1-4e73-bea1-4ca52b3d4c53",
   "metadata": {},
   "outputs": [],
   "source": []
  },
  {
   "cell_type": "code",
   "execution_count": null,
   "id": "9dae01c7-3e45-4cf1-bba1-26c8eeec77cd",
   "metadata": {},
   "outputs": [],
   "source": []
  }
 ],
 "metadata": {
  "kernelspec": {
   "display_name": "Python 3 (ipykernel)",
   "language": "python",
   "name": "python3"
  },
  "language_info": {
   "codemirror_mode": {
    "name": "ipython",
    "version": 3
   },
   "file_extension": ".py",
   "mimetype": "text/x-python",
   "name": "python",
   "nbconvert_exporter": "python",
   "pygments_lexer": "ipython3",
   "version": "3.10.8"
  }
 },
 "nbformat": 4,
 "nbformat_minor": 5
}
