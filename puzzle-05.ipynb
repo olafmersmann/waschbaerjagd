{
 "cells": [
  {
   "cell_type": "code",
   "execution_count": null,
   "id": "31d61d93-2d30-4b0f-afce-4ca0a04936cd",
   "metadata": {},
   "outputs": [],
   "source": [
    "from binascii import a2b_hex\n",
    "from Crypto.Cipher import AES"
   ]
  },
  {
   "cell_type": "code",
   "execution_count": null,
   "id": "f2da926d-a48d-401a-aabd-b05f42851bc8",
   "metadata": {},
   "outputs": [],
   "source": [
    "blocks = [\"15b825fec5823ee79a952552539a3ebc\",\n",
    "    \"bf126e2144a8d84a806feac7dd0b78be\",\n",
    "    \"f988291215148d302c3a39d375046587\",\n",
    "    \"48f455822d200e6753ca61008b6215f8\",\n",
    "    \"31a487899720cf7c12fcb1e0b1c524d1\",\n",
    "    \"4edaff2d689c18edacf3b3eac8200b25\",\n",
    "    \"1944aa23b2f25ef7ed3d38c7bf0ba7f9\",\n",
    "    \"9f21073afc648241cdaa68fe5423bc1b\",\n",
    "    \"2ba56645afe28db2cd5d392dadc2a3ab\",\n",
    "    \"c6d26cd0358da459d965cb95d330d588\"]\n",
    "key = \"f328c85662f8672cc58acf523dda9103\"\n",
    "iv = \"36d5ad924f80c19baad51d0d2823777b\""
   ]
  },
  {
   "cell_type": "code",
   "execution_count": null,
   "id": "f34b9b54-b29a-4530-8458-44538b043ef0",
   "metadata": {},
   "outputs": [],
   "source": [
    "cipher = AES.new(a2b_hex(key), AES.MODE_CBC, iv=a2b_hex(iv))\n",
    "for block in blocks:\n",
    "    plain = cipher.decrypt(a2b_hex(block))\n",
    "    print(plain)"
   ]
  }
 ],
 "metadata": {
  "kernelspec": {
   "display_name": "Python 3 (ipykernel)",
   "language": "python",
   "name": "python3"
  },
  "language_info": {
   "codemirror_mode": {
    "name": "ipython",
    "version": 3
   },
   "file_extension": ".py",
   "mimetype": "text/x-python",
   "name": "python",
   "nbconvert_exporter": "python",
   "pygments_lexer": "ipython3",
   "version": "3.10.8"
  }
 },
 "nbformat": 4,
 "nbformat_minor": 5
}
