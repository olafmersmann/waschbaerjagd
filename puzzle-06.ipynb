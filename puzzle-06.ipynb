{
 "cells": [
  {
   "cell_type": "markdown",
   "id": "61167645-3d4b-4405-ab99-38bb10f2775e",
   "metadata": {},
   "source": [
    "[Start](https://www.secret-key.org/comegetme/)"
   ]
  },
  {
   "cell_type": "code",
   "execution_count": null,
   "id": "31d61d93-2d30-4b0f-afce-4ca0a04936cd",
   "metadata": {},
   "outputs": [],
   "source": [
    "import math\n",
    "import itertools\n",
    "from binascii import a2b_hex, b2a_hex\n",
    "from Crypto.Cipher import AES"
   ]
  },
  {
   "cell_type": "code",
   "execution_count": null,
   "id": "f2da926d-a48d-401a-aabd-b05f42851bc8",
   "metadata": {},
   "outputs": [],
   "source": [
    "numbers = [3, 0, 0, 2, 4, 3, 9, 1, 9, 0, 6, 2, 8, 4, 2, 8, 9, 6, 1]\n",
    "number = 3002439190628428961\n",
    "blocks = [    \n",
    "    \"333426088b2c54b52f30a4ee11e64ffe\",\n",
    "    \"b676fb84f7a70cabc8dd40be388e4e1c\",\n",
    "    \"41293ac97f67d7dc4770ade8286d07f7\",\n",
    "    \"64bb31f00de10ccfd578f1469bcdc521\",\n",
    "    \"e90bb4edea17afaf737aaf61f1126236\",\n",
    "    \"b1bb8331690c4a1e57cf5247e384a42c\",\n",
    "    \"c36122121855d30269a4a4a515949dd0\",\n",
    "    \"a1ef102bd773b6f0b2cbcfb926f4db45\",\n",
    "    \"4b633d922c18907d637d300a9345844d\",\n",
    "    \"71ce4d5c0ee2a23b0af0069d4d25f383\",\n",
    "    \"f1f5a2ab55601355536a87d68fe4654f\",\n",
    "    \"311158c61c44d96791bd084ca2ce8c25\",\n",
    "    \"50e895c056b2316cd82ed68ea193cdb2\",\n",
    "    \"35b47ba6b58fe7dbfcbc049fd39e648b\",\n",
    "    \"f928960eafb3a73fa1d1b172efce0a55\",\n",
    "    \"c91420c5621ac96ad4e5d5b9ad1e693e\",\n",
    "    \"295fe914fdc3491c8403f80682787304\",\n",
    "    \"7d011561d81c5b90914b238295d2f527\",\n",
    "    \"24f672b36c771bfcf1805a20899588bc\",\n",
    "    \"dc6de2c835c58254f91e9e72f6e686c0\",\n",
    "    \"2da1424d68344704ad879d99f1451973\",\n",
    "    \"d7aea5d593b9a187e0ac5e647dd18d8f\",\n",
    "    \"fc1dffe95844acc4a1d6cd2719cc36fe\",\n",
    "    \"a54d302e0259e462b09ceae2b64b0c8f\",\n",
    "    \"b7f6ebc6c546beaa202802268c6c25b3\",\n",
    "    \"f6be8cd7a9619fccb8816d35007d2ade\",\n",
    "]\n",
    "blocks = [a2b_hex(block) for block in blocks]\n",
    "key = \"catchmeifyoucan!\".encode(\"ASCII\")"
   ]
  },
  {
   "cell_type": "code",
   "execution_count": null,
   "id": "ec7d3e14-034d-4b91-bff5-f5cd2bc93400",
   "metadata": {},
   "outputs": [],
   "source": [
    "chain = {}\n",
    "for current_block in blocks:\n",
    "    found_next = False\n",
    "    for next_block in blocks:\n",
    "        cipher = AES.new(key, AES.MODE_CBC, iv=current_block)\n",
    "        try:\n",
    "            plain = cipher.decrypt(next_block).decode(\"ASCII\") # Fails on bad plaintext\n",
    "            chain[next_block] = current_block\n",
    "            found_next = True\n",
    "        except UnicodeDecodeError:            \n",
    "            pass\n",
    "    if not found_next:\n",
    "        last_block = current_block\n",
    "\n",
    "ordered_blocks = []\n",
    "while last_block in chain:\n",
    "    ordered_blocks.append(last_block)\n",
    "    last_block = chain[last_block]\n",
    "ordered_blocks = list(reversed(ordered_blocks))"
   ]
  },
  {
   "cell_type": "code",
   "execution_count": null,
   "id": "f7849e3e-0d76-4d71-b366-d7f89da7f15b",
   "metadata": {},
   "outputs": [],
   "source": [
    "iv = bytes([0x00] * 16)\n",
    "cipher = AES.new(key, AES.MODE_CBC, iv=iv)\n",
    "for block in ordered_blocks:\n",
    "    plain = cipher.decrypt(block)\n",
    "    print(f\"{plain}\")"
   ]
  },
  {
   "cell_type": "markdown",
   "id": "896686df-ba56-41e2-9c30-023fdf3e342a",
   "metadata": {},
   "source": [
    "Now guess first plaintext block and derive IV."
   ]
  },
  {
   "cell_type": "code",
   "execution_count": null,
   "id": "a6a6ebd3-edad-4bf7-9ae8-6ebf6232ab80",
   "metadata": {},
   "outputs": [],
   "source": [
    "plain = b'Great, you manag'\n",
    "cipher = AES.new(key, AES.MODE_ECB)\n",
    "pt_iv = cipher.decrypt(ordered_blocks[0])\n",
    "iv = []\n",
    "for a, b in zip(pt_iv, plain):\n",
    "    iv.append(a ^ b)\n",
    "iv = bytes(iv)\n",
    "print(b2a_hex(iv))\n",
    "\n",
    "# Now decrypt complete message...\n",
    "cipher = AES.new(key, AES.MODE_CBC, iv=iv)\n",
    "plain = \"\"\n",
    "for block in ordered_blocks:\n",
    "    plain += cipher.decrypt(block).decode(\"ASCII\")     \n",
    "print(plain)\n"
   ]
  },
  {
   "cell_type": "code",
   "execution_count": null,
   "id": "e0226592-eae1-40cc-a794-4f14add43ae2",
   "metadata": {},
   "outputs": [],
   "source": [
    "%%time\n",
    "         \n",
    "for p in range(5, int(math.sqrt(number)), 2):\n",
    "    if number % p == 0:\n",
    "        print(p)\n",
    "        break\n",
    "q = number // p\n",
    "p, q, p * q, number"
   ]
  },
  {
   "cell_type": "code",
   "execution_count": null,
   "id": "250653ac-07b8-40a2-a20a-ac79d6530991",
   "metadata": {},
   "outputs": [],
   "source": [
    "p / 1000000, q / 1000000"
   ]
  },
  {
   "cell_type": "code",
   "execution_count": null,
   "id": "7cd1d2d2-d654-455e-89ea-cc254c29d530",
   "metadata": {},
   "outputs": [],
   "source": [
    "39.1008, 76.77135"
   ]
  }
 ],
 "metadata": {
  "kernelspec": {
   "display_name": "Python 3 (ipykernel)",
   "language": "python",
   "name": "python3"
  },
  "language_info": {
   "codemirror_mode": {
    "name": "ipython",
    "version": 3
   },
   "file_extension": ".py",
   "mimetype": "text/x-python",
   "name": "python",
   "nbconvert_exporter": "python",
   "pygments_lexer": "ipython3",
   "version": "3.10.8"
  }
 },
 "nbformat": 4,
 "nbformat_minor": 5
}
