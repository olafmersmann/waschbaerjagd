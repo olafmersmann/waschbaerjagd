{
 "cells": [
  {
   "cell_type": "markdown",
   "id": "2e6aad7d-2fea-4013-a6d1-e37f738bfb21",
   "metadata": {},
   "source": [
    "# Substitutionschiffre"
   ]
  },
  {
   "cell_type": "code",
   "execution_count": null,
   "id": "2e6afb0a-7cea-4675-916c-d378529ff7fd",
   "metadata": {},
   "outputs": [],
   "source": [
    "import numpy as np\n",
    "from functools import lru_cache\n",
    "\n",
    "from collections import defaultdict\n",
    "from itertools import permutations\n",
    "from urllib.request import urlopen"
   ]
  },
  {
   "cell_type": "code",
   "execution_count": null,
   "id": "32538a45-1406-425f-a2fd-c82d6770b18c",
   "metadata": {
    "tags": []
   },
   "outputs": [],
   "source": [
    "with open(\"p1.txt\", \"r\") as fd:\n",
    "    raw = fd.read()\n",
    "raw"
   ]
  },
  {
   "cell_type": "code",
   "execution_count": null,
   "id": "a9d4e6c8-aa57-4dbe-8f77-0a1ba99b1e20",
   "metadata": {},
   "outputs": [],
   "source": [
    "@lru_cache(maxsize=10)\n",
    "def fetchBook(url):\n",
    "    with urlopen(url) as fd:\n",
    "        text = fd.read().decode(\"utf-8\").replace(\"\\xa0\", \" \").lower()\n",
    "        return \" \".join(text.split(\"\\r\\n\"))[1:] # Remove BOM\n",
    "    \n",
    "ENG = fetchBook(\"https://www.gutenberg.org/cache/epub/394/pg394.txt\").lower()\n",
    "#DEU = fetchBook(\"https://www.gutenberg.org/cache/epub/6343/pg6343.txt\").lower()"
   ]
  },
  {
   "cell_type": "code",
   "execution_count": null,
   "id": "f72e2877-3a89-4c66-88e5-bb7dfe36c628",
   "metadata": {},
   "outputs": [],
   "source": [
    "def ngrams(s, n):\n",
    "    for line in s.split(\"\\n\"):\n",
    "        for ngram in [line[i:(i+n)] for i in range(len(line) - n)]:\n",
    "            yield ngram"
   ]
  },
  {
   "cell_type": "code",
   "execution_count": null,
   "id": "9060e87a-d85a-45db-8402-37a551caa803",
   "metadata": {},
   "outputs": [],
   "source": [
    "logLik = defaultdict(int)\n",
    "total = 0\n",
    "for ngram in ngrams(ENG, 4):\n",
    "    logLik[ngram] += 1\n",
    "    total += 1\n",
    "    \n",
    "for ngram in logLik.keys():\n",
    "    logLik[ngram] = np.log(logLik[ngram] / total)"
   ]
  },
  {
   "cell_type": "code",
   "execution_count": null,
   "id": "abb87345-d68c-4cbe-b6ff-fc95cda58eec",
   "metadata": {},
   "outputs": [],
   "source": [
    "def likelihood(text):\n",
    "    ll = 0.0\n",
    "    for ngram in ngrams(text, 4):\n",
    "        ll += logLik[ngram]\n",
    "    return ll"
   ]
  },
  {
   "cell_type": "code",
   "execution_count": null,
   "id": "aff47c23-532d-4da3-8569-d76a6419fc75",
   "metadata": {},
   "outputs": [],
   "source": [
    "raw[:20]"
   ]
  },
  {
   "cell_type": "code",
   "execution_count": null,
   "id": "d3a4f22a-2367-4b86-9bcc-8670b5b632b9",
   "metadata": {},
   "outputs": [],
   "source": [
    "msg_alphabet"
   ]
  },
  {
   "cell_type": "code",
   "execution_count": null,
   "id": "1d48e108-33de-432b-bdd2-2cfec0b64356",
   "metadata": {},
   "outputs": [],
   "source": [
    "abc = [\"a\", \"b\", \"c\", \"d\", \"e\", \"f\", \"g\", \"h\", \"i\", \"j\", \"k\", \"l\", \"m\", \"n\", \"o\", \"p\", \"q\", \"r\", \"s\", \"t\", \"u\", \"v\", \"w\", \"x\", \"y\", \"z\"]\n",
    "msg_alphabet = np.unique(list(ngrams(raw, 1)) + abc)\n",
    "msg_alphabet"
   ]
  },
  {
   "cell_type": "code",
   "execution_count": null,
   "id": "30e32867-3724-4af0-8992-9e2560f066dc",
   "metadata": {},
   "outputs": [],
   "source": [
    "xlat = dict(zip(msg_alphabet, msg_alphabet))\n",
    "xlat[\"'\"], xlat['s'] = xlat['s'], xlat[\"'\"]\n",
    "xlat[\"k\"], xlat[','] = xlat[','], xlat[\"k\"]\n",
    "\n",
    "bestLL = likelihood(raw.translate(str.maketrans(xlat)))\n",
    "bestXlat = xlat.copy()"
   ]
  },
  {
   "cell_type": "code",
   "execution_count": null,
   "id": "289ab303-4c93-4ad6-ab2f-91e8f417a14e",
   "metadata": {},
   "outputs": [],
   "source": [
    "%%time\n",
    "\n",
    "for i in range(5):\n",
    "    xlat = dict(zip(msg_alphabet, msg_alphabet))\n",
    "    xlat[\"'\"], xlat['s'] = xlat['s'], xlat[\"'\"]\n",
    "    xlat[\"k\"], xlat[','] = xlat[','], xlat[\"k\"]\n",
    "    stall = False\n",
    "    while not stall:\n",
    "        stall = True\n",
    "        for p in np.random.permutation(msg_alphabet):\n",
    "            for q in np.random.permutation(msg_alphabet):\n",
    "                if p == q:\n",
    "                    next\n",
    "                xlat[p], xlat[q] = xlat[q], xlat[p]    \n",
    "                ll = likelihood(raw.translate(str.maketrans(xlat)))\n",
    "                if ll < bestLL:            \n",
    "                    bestLL, bestXlat = ll, xlat.copy()\n",
    "                    stall = False\n",
    "                elif ll > bestLL:                    \n",
    "                    xlat[p], xlat[q] = xlat[q], xlat[p]\n",
    "    print(f\"Attempt {i}: {bestLL}\")"
   ]
  },
  {
   "cell_type": "code",
   "execution_count": null,
   "id": "5e5bffcb-33ff-440b-84df-70a3b1b0634f",
   "metadata": {},
   "outputs": [],
   "source": [
    "plain = raw.translate(str.maketrans(bestXlat))\n",
    "print(plain)"
   ]
  },
  {
   "cell_type": "code",
   "execution_count": null,
   "id": "c18a9cbc-0771-4cac-be91-ac944305b88b",
   "metadata": {},
   "outputs": [],
   "source": [
    "N = 151\n",
    "print(f\"https://en.wikipedia.org/wiki/index.php?curid={N * 8}\")"
   ]
  },
  {
   "cell_type": "code",
   "execution_count": null,
   "id": "ebe0491a-b5ab-4033-9d7b-58a5d08d7f42",
   "metadata": {},
   "outputs": [],
   "source": [
    "z = np.array(list(ngrams(plain, 1)))\n",
    "for p in permutations([\"0\", \"1\", \"6\", \"8\"]):\n",
    "    id = int(\"\".join(p)) + np.sum(z == 'e') - np.sum(z == 't') + np.sum(z == 'a') - np.sum(z == 'o') + np.sum(z == 'i') - np.sum(z == 'n')\n"
   ]
  },
  {
   "cell_type": "code",
   "execution_count": null,
   "id": "87b5e544-dbb0-43ce-9fcb-7150757f3d91",
   "metadata": {},
   "outputs": [],
   "source": [
    "np.sum(z == 'e')"
   ]
  },
  {
   "cell_type": "code",
   "execution_count": null,
   "id": "9d98856c-d7f4-42d7-8d24-addb14f58b2b",
   "metadata": {},
   "outputs": [],
   "source": [
    "np.sum(z == 't')"
   ]
  },
  {
   "cell_type": "code",
   "execution_count": null,
   "id": "f78330d4-ae0a-4713-83ec-eeaafc95faa1",
   "metadata": {},
   "outputs": [],
   "source": [
    "np.sum(z == 'a')"
   ]
  },
  {
   "cell_type": "code",
   "execution_count": null,
   "id": "65b6cd42-d500-4717-9292-14d453278842",
   "metadata": {},
   "outputs": [],
   "source": [
    "np.sum(z == 'o')"
   ]
  },
  {
   "cell_type": "code",
   "execution_count": null,
   "id": "6dbf8768-2445-47f4-a6bf-4a3802c4e0b2",
   "metadata": {},
   "outputs": [],
   "source": [
    "np.sum(z == 'i')"
   ]
  },
  {
   "cell_type": "code",
   "execution_count": null,
   "id": "c5a333d7-e044-4717-8b82-8957af145c7c",
   "metadata": {},
   "outputs": [],
   "source": [
    "np.sum(z == 'n')"
   ]
  },
  {
   "cell_type": "code",
   "execution_count": null,
   "id": "ffd8d57f-9ec6-4240-82ea-bd4fe92ce040",
   "metadata": {},
   "outputs": [],
   "source": [
    "1086 + 443 - 330 + 265 - 258 + 220 - 215"
   ]
  },
  {
   "cell_type": "code",
   "execution_count": null,
   "id": "07e0e028-aac4-4438-bd9a-e67d6b462688",
   "metadata": {},
   "outputs": [],
   "source": []
  }
 ],
 "metadata": {
  "kernelspec": {
   "display_name": "Python 3 (ipykernel)",
   "language": "python",
   "name": "python3"
  },
  "language_info": {
   "codemirror_mode": {
    "name": "ipython",
    "version": 3
   },
   "file_extension": ".py",
   "mimetype": "text/x-python",
   "name": "python",
   "nbconvert_exporter": "python",
   "pygments_lexer": "ipython3",
   "version": "3.11.0"
  }
 },
 "nbformat": 4,
 "nbformat_minor": 5
}
