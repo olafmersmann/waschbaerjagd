{
 "cells": [
  {
   "cell_type": "markdown",
   "id": "fbffc861-5888-40da-ae9d-99f90d7ed2d2",
   "metadata": {},
   "source": [
    "Passwort `galaxy`"
   ]
  },
  {
   "cell_type": "code",
   "execution_count": null,
   "id": "ff95140d-7947-4b61-b688-0108dfa2081b",
   "metadata": {},
   "outputs": [],
   "source": [
    "import math"
   ]
  },
  {
   "cell_type": "code",
   "execution_count": null,
   "id": "3af81a4a-daa1-430f-9a10-fd1c8257bb95",
   "metadata": {},
   "outputs": [],
   "source": [
    "pubkeys = [\n",
    " (664581288639089, 703824),\n",
    " (531607517869027, 989248),\n",
    " (335968814037581, 511009),\n",
    " (773227981234609, 764172),\n",
    " (390708844109707, 994493),\n",
    " (692283234081457, 272524),\n",
    " (707065682099251, 945189),\n",
    " (475586937007367, 1011921),\n",
    " (496121230013909, 250459),\n",
    " (521656700106701, 729764),\n",
    "]"
   ]
  },
  {
   "cell_type": "code",
   "execution_count": null,
   "id": "0de5241b-f527-4ec7-89cb-7dfa1fc2cdb9",
   "metadata": {},
   "outputs": [],
   "source": [
    "for N, e in pubkeys:             \n",
    "    for p in range(5, int(math.sqrt(N)), 2):\n",
    "        if N % p == 0:\n",
    "            q = N // p\n",
    "            phi = (p - 1) * (q - 1)\n",
    "            if math.gcd(phi, e) == 1: # rel. prime\n",
    "                print(N, p, q, e)"
   ]
  },
  {
   "cell_type": "code",
   "execution_count": null,
   "id": "52672c02-2ab9-46a4-94f8-77fe0c2df46e",
   "metadata": {},
   "outputs": [],
   "source": [
    "e = 250459\n",
    "N = 496121230013909\n",
    "m = 4\n",
    "(m**e) % N"
   ]
  },
  {
   "cell_type": "code",
   "execution_count": null,
   "id": "5b9ff01e-f45a-4cc0-85bb-9048eadeadfd",
   "metadata": {},
   "outputs": [],
   "source": []
  }
 ],
 "metadata": {
  "kernelspec": {
   "display_name": "Python 3 (ipykernel)",
   "language": "python",
   "name": "python3"
  },
  "language_info": {
   "codemirror_mode": {
    "name": "ipython",
    "version": 3
   },
   "file_extension": ".py",
   "mimetype": "text/x-python",
   "name": "python",
   "nbconvert_exporter": "python",
   "pygments_lexer": "ipython3",
   "version": "3.10.8"
  }
 },
 "nbformat": 4,
 "nbformat_minor": 5
}
