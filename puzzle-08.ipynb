{
 "cells": [
  {
   "cell_type": "code",
   "execution_count": null,
   "id": "3886b854-1bd0-4ec7-b7e5-a9a3ccc80171",
   "metadata": {},
   "outputs": [],
   "source": [
    "import math"
   ]
  },
  {
   "cell_type": "code",
   "execution_count": null,
   "id": "300f42d9-cc4c-4745-a81e-47a23df816b9",
   "metadata": {},
   "outputs": [],
   "source": [
    "p = 424243 # Prime\n",
    "g = 7      # Generator\n",
    "A = 188814 # g^a mod pq\n",
    "B = 37167 # g^b mod p"
   ]
  },
  {
   "cell_type": "code",
   "execution_count": null,
   "id": "fcb7bc6b-3aee-43b6-88ae-eca258bd3c05",
   "metadata": {},
   "outputs": [],
   "source": [
    "def inverse(a, b):\n",
    "    s2, t2, s1, t1 = 1, 0, 0, 1\n",
    "    while b > 0:\n",
    "        q = a // b\n",
    "        r, s, t = (a - b * q), (s2 - q * s1), (t2 - q * t1)\n",
    "        a, b, s2, t2, s1, t1 = b, r, s1, t1, s, t\n",
    "    #gcd, s, t = a, s2, t2    \n",
    "    return s2"
   ]
  },
  {
   "cell_type": "code",
   "execution_count": null,
   "id": "9bf71581-7c05-457f-85d8-bde02a93ba67",
   "metadata": {},
   "outputs": [],
   "source": [
    "def babyStepGiantStep(β, n, α):\n",
    "    m = math.ceil(math.sqrt(n))\n",
    "    \n",
    "    tbl = {}\n",
    "    for j in range(m):\n",
    "        tbl[(α**j) % n] = j\n",
    "        \n",
    "    αm_inv = inverse((α**m) % n, n)\n",
    "    y = β\n",
    "    for i in range(m):\n",
    "        if y in tbl:\n",
    "            return i*m + tbl[y]\n",
    "        y = (y * αm_inv) % n"
   ]
  },
  {
   "cell_type": "code",
   "execution_count": null,
   "id": "45494f51-f89d-43e6-af02-76c5b1ed6d17",
   "metadata": {},
   "outputs": [],
   "source": [
    "a = babyStepGiantStep(A, p, g)\n",
    "b = babyStepGiantStep(B, p, g)\n",
    "A == (g**a) % p, B == (g**b) % p"
   ]
  },
  {
   "cell_type": "code",
   "execution_count": null,
   "id": "19034e5e-aaba-4f33-9083-b5249dbb9629",
   "metadata": {},
   "outputs": [],
   "source": [
    "k1 = (A**b) % p\n",
    "k2 = (B**a) % p\n",
    "k1, k2"
   ]
  },
  {
   "cell_type": "code",
   "execution_count": null,
   "id": "5076f62e-7af7-45e4-99a5-594d1a0dd2b4",
   "metadata": {},
   "outputs": [],
   "source": []
  }
 ],
 "metadata": {
  "kernelspec": {
   "display_name": "Python 3 (ipykernel)",
   "language": "python",
   "name": "python3"
  },
  "language_info": {
   "codemirror_mode": {
    "name": "ipython",
    "version": 3
   },
   "file_extension": ".py",
   "mimetype": "text/x-python",
   "name": "python",
   "nbconvert_exporter": "python",
   "pygments_lexer": "ipython3",
   "version": "3.10.9"
  }
 },
 "nbformat": 4,
 "nbformat_minor": 5
}
