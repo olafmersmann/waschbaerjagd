{
 "cells": [
  {
   "cell_type": "markdown",
   "id": "0f46a399-fe54-49e5-888c-51bdd9d3a445",
   "metadata": {},
   "source": [
    "# One-Time-Pad"
   ]
  },
  {
   "cell_type": "code",
   "execution_count": null,
   "id": "686cc1e9-42b3-48ba-89fb-35968f93e4e4",
   "metadata": {},
   "outputs": [],
   "source": [
    "import numpy as np"
   ]
  },
  {
   "cell_type": "code",
   "execution_count": null,
   "id": "33b6180a-6dfe-437e-881c-431c3774d16d",
   "metadata": {},
   "outputs": [],
   "source": [
    "input = \"000100010001101100011011000011100000001100000110\"\n",
    "key = \"\".join([f\"{ord(c):08b}\" for c in \"turing\"])"
   ]
  },
  {
   "cell_type": "code",
   "execution_count": null,
   "id": "2174e5bd-8907-4e4c-896e-a30e8269856d",
   "metadata": {},
   "outputs": [],
   "source": [
    "res = []\n",
    "for i, k in zip(input, key):\n",
    "    if i == k:\n",
    "        res.append(\"0\")\n",
    "    else:\n",
    "        res.append(\"1\")\n",
    "\n",
    "msg = []\n",
    "for byte in [res[i:(i+8)] for i in range(0, len(res), 8)]:\n",
    "    msg.append(chr(int(''.join(byte), 2)))\n",
    "\"\".join(msg)"
   ]
  }
 ],
 "metadata": {
  "kernelspec": {
   "display_name": "Python 3 (ipykernel)",
   "language": "python",
   "name": "python3"
  },
  "language_info": {
   "codemirror_mode": {
    "name": "ipython",
    "version": 3
   },
   "file_extension": ".py",
   "mimetype": "text/x-python",
   "name": "python",
   "nbconvert_exporter": "python",
   "pygments_lexer": "ipython3",
   "version": "3.10.8"
  }
 },
 "nbformat": 4,
 "nbformat_minor": 5
}
