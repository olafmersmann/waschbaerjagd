{
 "cells": [
  {
   "cell_type": "markdown",
   "id": "9c02cbdd-93c9-4630-adbc-0764e7feb90c",
   "metadata": {},
   "source": [
    "# Login Passwort"
   ]
  },
  {
   "cell_type": "markdown",
   "id": "aa26abe6-6db0-4af2-8f44-5a5026315ec1",
   "metadata": {},
   "source": [
    "- Year of birth of the person whose wikipedia article you visited (YYYY)\n",
    "- Number of \"e\"s in the message that was one-time-pad encrypted\n",
    "- Third word of the decrypted text from my old notes\n",
    "- All eight missing key bits you reconstructed\n",
    "- The first digit and then the last digit of the number you listened to\n",
    "- The complete IV in hex representation given in my mail for the AES CBC challenge via mail\n",
    "- Year of founding of the thing you visited via coordinates (YYYY)\n",
    "- Complete RSA ciphertext of the number of raccoons on the picture\n",
    "- Shared Diffie-Hellman secret of Alice and Bob    "
   ]
  },
  {
   "cell_type": "code",
   "execution_count": null,
   "id": "f80f604d-b331-4e3f-b570-7fdd30357b4a",
   "metadata": {},
   "outputs": [],
   "source": [
    "from hashlib import sha256"
   ]
  },
  {
   "cell_type": "code",
   "execution_count": null,
   "id": "978b96d8-4187-4041-8c0a-81b55645532a",
   "metadata": {},
   "outputs": [],
   "source": [
    "password = [\"1912\",\n",
    "            \"1\",\n",
    "            \"could\",\n",
    "            \"10010111\",\n",
    "            \"31\",\n",
    "            \"9feca5d9b2269fc2bf9b6d35007d2ade\",\n",
    "            \"1952\", # According to Wikipedia\n",
    "            \"379694596008494\",\n",
    "            \"51032\"]\n",
    "msg = \"\".join(password).encode(\"ASCII\")         "
   ]
  },
  {
   "cell_type": "code",
   "execution_count": null,
   "id": "b583d022-4098-4c55-a29c-f409fc9be4ae",
   "metadata": {},
   "outputs": [],
   "source": [
    "x = sha256(msg).hexdigest()\n",
    "x[:20]"
   ]
  },
  {
   "cell_type": "code",
   "execution_count": null,
   "id": "78c9084f-6842-4696-9cf7-038411d4b666",
   "metadata": {},
   "outputs": [],
   "source": []
  }
 ],
 "metadata": {
  "kernelspec": {
   "display_name": "Python 3 (ipykernel)",
   "language": "python",
   "name": "python3"
  },
  "language_info": {
   "codemirror_mode": {
    "name": "ipython",
    "version": 3
   },
   "file_extension": ".py",
   "mimetype": "text/x-python",
   "name": "python",
   "nbconvert_exporter": "python",
   "pygments_lexer": "ipython3",
   "version": "3.11.0"
  }
 },
 "nbformat": 4,
 "nbformat_minor": 5
}
