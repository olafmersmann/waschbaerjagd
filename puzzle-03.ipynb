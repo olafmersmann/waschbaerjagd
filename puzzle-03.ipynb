{
 "cells": [
  {
   "cell_type": "code",
   "execution_count": null,
   "id": "520ef21a-ac9b-43b5-971d-6e5ea3741ff9",
   "metadata": {},
   "outputs": [],
   "source": [
    "import numpy as np"
   ]
  },
  {
   "cell_type": "code",
   "execution_count": null,
   "id": "cfd784c2-a388-4c21-8da2-050bcc525619",
   "metadata": {},
   "outputs": [],
   "source": [
    "raw = \"\"\"00000111x0110010100000011000110101111101001101100111101101xx0011101001001110110110010011\n",
    "1111010x00100011101010011000010011111110100110001100111001xxxxxxx10110000001111110100000\n",
    "10000xxx00110100101011010000001010001010000110100010101111xxxxxxxx1100010001001011001010\n",
    "1010xx010001011001000000110000101001011111100000010100101111xxxx110110100110000011010010\n",
    "1xxx001011001100000011001100011001100111001100101100001001100010000101101001000000100111\n",
    "x100001111010110000111010010010001001101110101111110100011100011011000010110100111111010\n",
    "0110101100100000010011110101000010010010011110001101000111101010110110010111011001010101\n",
    "0011110000101010001010111111111011010000010110111111011101111111010101110100010100111111\n",
    "0000011000100101110000010101010101011001101000011000001011001010100010011111010011110110\n",
    "1000111000001110010001010001011110100110011111001011100101101000110010110111110010100011\n",
    "1111101111101101101001000001101100111110110001111010101101110100010111111010000100000010\n",
    "1111010100000011000010110010010110111001000010010011100001111101110101011001101100110010\n",
    "0001100000001111011010001000111011001011101110101011000100110010111101001100010111010111\n",
    "1011010010111010010001011110000000110001101000001000011001110111101100000000000111011110\n",
    "010110100011100110111001111001110101000011000001111110110001111100000001\"\"\"\n",
    "\n",
    "msg = []\n",
    "for c in raw:\n",
    "    if c == '0':\n",
    "        msg.append(0)\n",
    "    elif c == '1':\n",
    "        msg.append(1)\n",
    "    elif c == 'x':\n",
    "        msg.append(0) # ooops"
   ]
  },
  {
   "cell_type": "code",
   "execution_count": null,
   "id": "bf0379c4-9bb7-4f0e-a7bf-ade606e26c4b",
   "metadata": {},
   "outputs": [],
   "source": [
    "def bitstringToText(bits):\n",
    "    msg = []\n",
    "    for byte in [bits[i:(i+8)] for i in range(0, len(bits), 8)]:\n",
    "        byte = [str(b) for b in byte]\n",
    "        msg.append(chr(int(''.join(byte), 2)))\n",
    "    return \"\".join(msg)"
   ]
  },
  {
   "cell_type": "code",
   "execution_count": null,
   "id": "c254b614-3eb0-4cff-bfd2-3697e4670bb6",
   "metadata": {},
   "outputs": [],
   "source": [
    "class ShiftRegister:\n",
    "    def __init__(self, state):\n",
    "        self._state = np.array(state)        \n",
    "        for k in range(200): self.shift()\n",
    "        \n",
    "    def shift(self):\n",
    "        i = (self._state[2] ^ self._state[4] ^ self._state[7] ^ self._state[8] ^ self._state[10]) & 1\n",
    "        o = self._state[11]\n",
    "        self._state[1:] = self._state[0:11]\n",
    "        self._state[0] = i\n",
    "        return o\n",
    "\n",
    "    def __iter__(self):\n",
    "        return self\n",
    "\n",
    "    def __next__(self):\n",
    "        return self.shift()        "
   ]
  },
  {
   "cell_type": "code",
   "execution_count": null,
   "id": "b2d14125-a15d-425a-a62b-8c57a31f0cc2",
   "metadata": {},
   "outputs": [],
   "source": [
    "for i in [0, 1]:\n",
    "    for j in [0, 1]:\n",
    "        state = [0, 0, 1, i, 1, 1, 1, 0, 1, 1, 0, j]\n",
    "        print(f\"Key: {state}\")\n",
    "        reg = ShiftRegister(state)\n",
    "        plain = []\n",
    "        for c, k in zip(msg, reg):            \n",
    "            plain.append(c ^ k)\n",
    "        print(bitstringToText(plain))"
   ]
  },
  {
   "cell_type": "code",
   "execution_count": null,
   "id": "fdf02fc4-d4ba-4dc9-ab1e-5848008fe3c8",
   "metadata": {},
   "outputs": [],
   "source": [
    "for i in [0, 1]:\n",
    "    reg = ShiftRegister([0, 0, i, 0, 1, 1, 1, 0, 1, 1, 0, 1])\n",
    "    key = [str(next(reg)) for i in range(10)]\n",
    "    print(\"\".join(key))\n",
    "    print(\"\".join(reversed(key)))"
   ]
  }
 ],
 "metadata": {
  "kernelspec": {
   "display_name": "Python 3 (ipykernel)",
   "language": "python",
   "name": "python3"
  },
  "language_info": {
   "codemirror_mode": {
    "name": "ipython",
    "version": 3
   },
   "file_extension": ".py",
   "mimetype": "text/x-python",
   "name": "python",
   "nbconvert_exporter": "python",
   "pygments_lexer": "ipython3",
   "version": "3.10.8"
  }
 },
 "nbformat": 4,
 "nbformat_minor": 5
}
