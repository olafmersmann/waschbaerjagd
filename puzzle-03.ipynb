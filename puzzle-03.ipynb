{
 "cells": [
  {
   "cell_type": "code",
   "execution_count": null,
   "id": "520ef21a-ac9b-43b5-971d-6e5ea3741ff9",
   "metadata": {},
   "outputs": [],
   "source": [
    "import numpy as np"
   ]
  },
  {
   "cell_type": "code",
   "execution_count": null,
   "id": "cfd784c2-a388-4c21-8da2-050bcc525619",
   "metadata": {},
   "outputs": [],
   "source": [
    "raw = \"\"\"000001110?1100101000110111010100011010110010110000101110000?0?00101010001111011110001010\n",
    "111111010?100111111001001001011111110000100111001000101000???????10100000000100011110011\n",
    "10001100?111100010100110010001001100010000011000001001101?????????1011010101000010001110\n",
    "1101110?000101110000111111000110100000001111110000011111101?????111110010110010110010111\n",
    "11010??010000101000001111100000101111100001011101100010001100110010100011100001100010110\n",
    "1000??0010000010000001010011001100000010110001101110100011100001011011000011011010101110\n",
    "0???101000110011000001000100001011011011011110001101000110101111110010000010000000001101\n",
    "?111111001101000011011111110111111010001010110101110011100101100000011100001110101101100\n",
    "0101001000101011110011000001000000001101101111011000111110001111110010001111000111101011\n",
    "1000100100011100010111010001011111111100001010011110000001110100110010100111101010110110\n",
    "1110111111110100101001000001100000111001110101111111100000100111010110111010000100000010\n",
    "1111010100010001010011100010011010111100010000000011010101111101110011001001010101111011\n",
    "0010111101111011010101001010010010111000101001001100010101001011100000011011011011010000\n",
    "1101110111011111001001101001110100110011100110101011011101000111100111110010010011011001\n",
    "0001001000110001101011101111101100001010100000111110001000011101010101101001100010011101\n",
    "111000010001101111111111\"\"\"\n",
    "\n",
    "msg = []\n",
    "for c in raw:\n",
    "    if c == '0':\n",
    "        msg.append(0)\n",
    "    elif c == '1':\n",
    "        msg.append(1)\n",
    "    elif c == '?':\n",
    "        msg.append(0) # ooops"
   ]
  },
  {
   "cell_type": "code",
   "execution_count": null,
   "id": "bf0379c4-9bb7-4f0e-a7bf-ade606e26c4b",
   "metadata": {},
   "outputs": [],
   "source": [
    "def bitstringToText(bits):\n",
    "    msg = []\n",
    "    for byte in [bits[i:(i+8)] for i in range(0, len(bits), 8)]:\n",
    "        byte = [str(b) for b in byte]\n",
    "        msg.append(chr(int(''.join(byte), 2)))\n",
    "    return \"\".join(msg)"
   ]
  },
  {
   "cell_type": "code",
   "execution_count": null,
   "id": "c254b614-3eb0-4cff-bfd2-3697e4670bb6",
   "metadata": {},
   "outputs": [],
   "source": [
    "class ShiftRegister:\n",
    "    def __init__(self, state, warm=True):\n",
    "        self._state = np.array(state)  \n",
    "        if warm:\n",
    "            for k in range(200): self.shift()\n",
    "        \n",
    "    def shift(self):\n",
    "        i = (self._state[2] ^ self._state[4] ^ self._state[7] ^ self._state[8] ^ self._state[10]) & 1\n",
    "        o = self._state[11]\n",
    "        self._state[1:] = self._state[0:11]\n",
    "        self._state[0] = i\n",
    "        return o\n",
    "\n",
    "    def __iter__(self):\n",
    "        return self\n",
    "\n",
    "    def __next__(self):\n",
    "        return self.shift()        "
   ]
  },
  {
   "cell_type": "code",
   "execution_count": null,
   "id": "b2d14125-a15d-425a-a62b-8c57a31f0cc2",
   "metadata": {},
   "outputs": [],
   "source": [
    "for i in [0, 1]:\n",
    "    for j in [0, 1]:\n",
    "        state = [0, 0, 1, i, 1, 1, 1, 0, 1, 1, 0, j]\n",
    "        print(f\"Key: {state}\")\n",
    "        reg = ShiftRegister(state)\n",
    "        plain = []\n",
    "        for c, k in zip(msg, reg):            \n",
    "            plain.append(c ^ k)\n",
    "        print(bitstringToText(plain))"
   ]
  },
  {
   "cell_type": "code",
   "execution_count": null,
   "id": "fdf02fc4-d4ba-4dc9-ab1e-5848008fe3c8",
   "metadata": {},
   "outputs": [],
   "source": [
    "state = [1, 0, 1, 0, 1, 0, 1, 0, 1, 0, 1, 0]\n",
    "reg = ShiftRegister(state)\n",
    "key = [str(next(reg)) for i in range(10)]\n",
    "print(key)\n",
    "print(f\"{''.join(key)}@secret-key.org\")\n",
    "print(f\"{''.join(reversed(key))}@secret-key.org\")"
   ]
  },
  {
   "cell_type": "code",
   "execution_count": null,
   "id": "06da03d9-0425-4d12-bcae-3472d9180040",
   "metadata": {},
   "outputs": [],
   "source": []
  }
 ],
 "metadata": {
  "kernelspec": {
   "display_name": "Python 3 (ipykernel)",
   "language": "python",
   "name": "python3"
  },
  "language_info": {
   "codemirror_mode": {
    "name": "ipython",
    "version": 3
   },
   "file_extension": ".py",
   "mimetype": "text/x-python",
   "name": "python",
   "nbconvert_exporter": "python",
   "pygments_lexer": "ipython3",
   "version": "3.11.0"
  }
 },
 "nbformat": 4,
 "nbformat_minor": 5
}
