{
 "cells": [
  {
   "cell_type": "code",
   "execution_count": null,
   "id": "31d61d93-2d30-4b0f-afce-4ca0a04936cd",
   "metadata": {},
   "outputs": [],
   "source": [
    "from binascii import a2b_hex\n",
    "\n",
    "from cryptography.hazmat.primitives.ciphers import Cipher, algorithms, modes"
   ]
  },
  {
   "cell_type": "code",
   "execution_count": null,
   "id": "f2da926d-a48d-401a-aabd-b05f42851bc8",
   "metadata": {},
   "outputs": [],
   "source": [
    "blocks = [\n",
    "\"8635c72e28562c0703035aa1846a9c27\",\n",
    "\"56f31bd61f07c7eef28940ede191c18f\",\n",
    "\"0f49b3041814ea511a205d08914d1ede\",\n",
    "\"2e4876990c9581befa17a168e8d5bd7b\",\n",
    "\"84d4ceac101507c4657c2980332410e2\",\n",
    "\"6115553b04aa0c911d5ecffade5b3ccb\",\n",
    "\"3ff61165fcda4adbca9ab9eb023a8e50\",\n",
    "\"00aae7df5eb0d6281b03745365e18d6b\",\n",
    "\"d2f7a5dfa36ad6bf480387039289a8e3\",\n",
    "\"ca9c5a69a73b049663a7aa1b429d39de\"\n",
    "]\n",
    "key = \"57a0e80647cc9a5408b101b3cda1f971\"\n",
    "iv = \"9eaedd9ba3c1722a1893a2bd46556d3f\""
   ]
  },
  {
   "cell_type": "code",
   "execution_count": null,
   "id": "f34b9b54-b29a-4530-8458-44538b043ef0",
   "metadata": {},
   "outputs": [],
   "source": [
    "#cipher = AES.new(a2b_hex(key), AES.MODE_CBC, iv=a2b_hex(iv))\n",
    "cipher = Cipher(algorithm=algorithms.AES128(a2b_hex(key)), mode=modes.CBC(a2b_hex(iv))).decryptor()\n",
    "res = \"\"\n",
    "for block in blocks:\n",
    "    plain = cipher.update(a2b_hex(block))\n",
    "    res += plain.decode(\"ASCII\")\n",
    "print(res)"
   ]
  },
  {
   "cell_type": "code",
   "execution_count": null,
   "id": "e0226592-eae1-40cc-a794-4f14add43ae2",
   "metadata": {},
   "outputs": [],
   "source": []
  }
 ],
 "metadata": {
  "kernelspec": {
   "display_name": "Python 3 (ipykernel)",
   "language": "python",
   "name": "python3"
  },
  "language_info": {
   "codemirror_mode": {
    "name": "ipython",
    "version": 3
   },
   "file_extension": ".py",
   "mimetype": "text/x-python",
   "name": "python",
   "nbconvert_exporter": "python",
   "pygments_lexer": "ipython3",
   "version": "3.11.0"
  }
 },
 "nbformat": 4,
 "nbformat_minor": 5
}
