{
 "cells": [
  {
   "cell_type": "markdown",
   "id": "61167645-3d4b-4405-ab99-38bb10f2775e",
   "metadata": {},
   "source": [
    "[Start](https://www.secret-key.org/comegetme/)"
   ]
  },
  {
   "cell_type": "code",
   "execution_count": null,
   "id": "31d61d93-2d30-4b0f-afce-4ca0a04936cd",
   "metadata": {},
   "outputs": [],
   "source": [
    "import math\n",
    "import itertools\n",
    "\n",
    "from binascii import a2b_hex, b2a_hex\n",
    "from cryptography.hazmat.primitives.ciphers import Cipher, algorithms, modes"
   ]
  },
  {
   "cell_type": "code",
   "execution_count": null,
   "id": "f2da926d-a48d-401a-aabd-b05f42851bc8",
   "metadata": {},
   "outputs": [],
   "source": [
    "numbers = [3, 0, 0, 2, 4, 3, 9, 1, 9, 0, 6, 2, 8, 4, 2, 8, 9, 6, 1]\n",
    "number = 3002439190628428961\n",
    "blocks = [    \n",
    "    \"5330e156c666c67e3f1696028358e652\",\n",
    "    \"198aec1177103a6461fc44446899bd89\",\n",
    "    \"9e2b2031757a35a64b671aea4294ffc6\",\n",
    "    \"83559743d029b8f972e711f4bb629972\",\n",
    "    \"ea067171f721b86eefe55a4634a581dc\",\n",
    "    \"ab312e83dc531fc26064220769772914\",\n",
    "    \"0aef2f7ff87daa895a6a40f9ee3791ba\",\n",
    "    \"24f94f923beb7d7deac2b9cb014d5984\",\n",
    "    \"31e032c24886bb825b58bc1fddd4ee4b\",\n",
    "    \"cb806c8c65e9c89453f9717e6d8cfda3\",\n",
    "    \"64d1fc74afba776e4ea9122df5059703\",\n",
    "    \"4b26e4672f69010a1a58e6b2b0a885cc\",\n",
    "    \"95ba8991b1a2a8fad7941d21e10ef000\",\n",
    "    \"9168ecd9d92f48bb0ebfcddf3ef63b06\",\n",
    "    \"fef6fd9aa39ca1ef48d591380b609453\",\n",
    "    \"51d73dcf575305a13fc917f8d668d349\",\n",
    "    \"435fb3c39049992a5de7ee84a76b0c90\",\n",
    "    \"d83c26d5f3cb711f2cfbb92ed59ffb0d\",\n",
    "    \"a2d323c774c118651a9dba5dd424308a\",\n",
    "    \"8fe17bce4494dd6a2ec295e404a39ab9\",\n",
    "    \"f93b24f80f169be86252f775da415d90\",\n",
    "    \"7f0a6bb5cb312174c4ea544ba47954e4\",\n",
    "    \"c33e76065086f475d4bba8deef9393b2\",\n",
    "    \"cf89f62eaf1af8c4980e7ad3da3159e3\",\n",
    "    \"7088fea5fae9bf210c87e5279661426b\",\n",
    "    \"7d2de7296355cb711364d03185b74d04\",\n",
    "    \"806664df96b9f1bcb04acfe651389205\",    \n",
    "]\n",
    "blocks = [a2b_hex(block) for block in blocks]\n",
    "key = \"catchmeifyoucan!\".encode(\"ASCII\")\n",
    "iv = \"9eaedd9ba3c1722a1893a2bd46556d3f\""
   ]
  },
  {
   "cell_type": "code",
   "execution_count": null,
   "id": "ec7d3e14-034d-4b91-bff5-f5cd2bc93400",
   "metadata": {},
   "outputs": [],
   "source": [
    "chain = {}\n",
    "for current_block in blocks:\n",
    "    found_next = False\n",
    "    for next_block in blocks:\n",
    "        cipher = Cipher(algorithm=algorithms.AES128(bytes(key)), mode=modes.CBC(current_block)).decryptor()\n",
    "        #cipher = AES.new(key, AES.MODE_CBC, iv=current_block)\n",
    "        try:\n",
    "            plain = cipher.update(next_block).decode(\"ASCII\") # Fails on bad plaintext\n",
    "            chain[next_block] = current_block\n",
    "            found_next = True\n",
    "        except UnicodeDecodeError:            \n",
    "            pass\n",
    "    if not found_next:\n",
    "        last_block = current_block\n",
    "\n",
    "ordered_blocks = []\n",
    "while last_block in chain:\n",
    "    ordered_blocks.append(last_block)\n",
    "    last_block = chain[last_block]\n",
    "ordered_blocks = list(reversed(ordered_blocks))\n",
    "ordered_blocks"
   ]
  },
  {
   "cell_type": "code",
   "execution_count": null,
   "id": "f7849e3e-0d76-4d71-b366-d7f89da7f15b",
   "metadata": {},
   "outputs": [],
   "source": [
    "#iv = bytes([0x00] * 16)\n",
    "cipher = Cipher(algorithm=algorithms.AES128(bytes(key)), mode=modes.CBC(a2b_hex(iv))).decryptor()     \n",
    "#cipher = AES.new(key, AES.MODE_CBC, iv=iv)\n",
    "res = b\"\"\n",
    "for block in ordered_blocks:\n",
    "    plain = cipher.update(block)\n",
    "    res += plain\n",
    "print(res)"
   ]
  },
  {
   "cell_type": "markdown",
   "id": "896686df-ba56-41e2-9c30-023fdf3e342a",
   "metadata": {},
   "source": [
    "Now guess first plaintext block and derive IV."
   ]
  },
  {
   "cell_type": "code",
   "execution_count": null,
   "id": "a6a6ebd3-edad-4bf7-9ae8-6ebf6232ab80",
   "metadata": {},
   "outputs": [],
   "source": [
    "plain = b'Great, you manag'\n",
    "cipher = Cipher(algorithms.AES128(key), modes.ECB()).encryptor()\n",
    "pt_iv = cipher.update(plain)\n",
    "iv = []\n",
    "for a, b in zip(pt_iv, plain):\n",
    "    iv.append(a ^ b)\n",
    "iv = bytes(iv)\n",
    "print(b2a_hex(iv))\n",
    "\n",
    "# Now decrypt complete message...\n",
    "cipher = Cipher(algorithms.AES128(key), modes.CBC(iv)).decryptor()\n",
    "plain = b\"\"\n",
    "for block in ordered_blocks:\n",
    "    plain += cipher.update(block)\n",
    "print(plain)"
   ]
  },
  {
   "cell_type": "code",
   "execution_count": null,
   "id": "e0226592-eae1-40cc-a794-4f14add43ae2",
   "metadata": {},
   "outputs": [],
   "source": [
    "%%time\n",
    "         \n",
    "for p in range(5, int(math.sqrt(number)), 2):\n",
    "    if number % p == 0:\n",
    "        print(p)\n",
    "        break\n",
    "q = number // p\n",
    "p, q, p * q, number"
   ]
  },
  {
   "cell_type": "code",
   "execution_count": null,
   "id": "250653ac-07b8-40a2-a20a-ac79d6530991",
   "metadata": {},
   "outputs": [],
   "source": [
    "p / 1000000, q / 1000000"
   ]
  },
  {
   "cell_type": "code",
   "execution_count": null,
   "id": "7cd1d2d2-d654-455e-89ea-cc254c29d530",
   "metadata": {},
   "outputs": [],
   "source": [
    "39.1008, 76.77135"
   ]
  }
 ],
 "metadata": {
  "kernelspec": {
   "display_name": "Python 3 (ipykernel)",
   "language": "python",
   "name": "python3"
  },
  "language_info": {
   "codemirror_mode": {
    "name": "ipython",
    "version": 3
   },
   "file_extension": ".py",
   "mimetype": "text/x-python",
   "name": "python",
   "nbconvert_exporter": "python",
   "pygments_lexer": "ipython3",
   "version": "3.11.0"
  }
 },
 "nbformat": 4,
 "nbformat_minor": 5
}
