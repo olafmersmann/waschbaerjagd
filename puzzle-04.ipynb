{
 "cells": [
  {
   "cell_type": "code",
   "execution_count": null,
   "id": "efe89340-d183-4e31-bc5a-5befb3f341d8",
   "metadata": {},
   "outputs": [],
   "source": [
    "from binascii import a2b_hex\n",
    "\n",
    "from cryptography.hazmat.primitives.ciphers import Cipher, algorithms, modes"
   ]
  },
  {
   "cell_type": "code",
   "execution_count": null,
   "id": "e2ee83f7-f223-43db-b9ad-aae83f61f7e0",
   "metadata": {},
   "outputs": [],
   "source": [
    "ciphertext = a2b_hex(\"e54c746cf416e32af3fb92585a6e5674\")\n",
    "rawkey = \"011110011010010011101110110111010111000010000010001111001011111110011000001011110111100111011010001101010000011110000110\"\n",
    "key = [0x00] * 16\n",
    "for i, byte in enumerate([rawkey[i:(i+8)] for i in range(0, len(rawkey), 8)]):\n",
    "    key[i] = int(byte, 2)"
   ]
  },
  {
   "cell_type": "code",
   "execution_count": null,
   "id": "211ce66a-c18c-4451-8d3b-bc4e7bb7c40d",
   "metadata": {},
   "outputs": [],
   "source": [
    "for k in range(256):\n",
    "    key[15] = k\n",
    "    cipher = Cipher(algorithm=algorithms.AES128(bytes(key)), mode=modes.ECB())\n",
    "    try:\n",
    "        plain = cipher.decryptor().update(ciphertext).decode(\"ASCII\")\n",
    "        print(f\"{k:08b}/{k:02x}: {plain}\")\n",
    "    except UnicodeDecodeError:\n",
    "        pass"
   ]
  },
  {
   "cell_type": "code",
   "execution_count": null,
   "id": "77efafb1-ce6f-4b5b-8959-0bd60150f10d",
   "metadata": {},
   "outputs": [],
   "source": []
  }
 ],
 "metadata": {
  "kernelspec": {
   "display_name": "Python 3 (ipykernel)",
   "language": "python",
   "name": "python3"
  },
  "language_info": {
   "codemirror_mode": {
    "name": "ipython",
    "version": 3
   },
   "file_extension": ".py",
   "mimetype": "text/x-python",
   "name": "python",
   "nbconvert_exporter": "python",
   "pygments_lexer": "ipython3",
   "version": "3.10.9"
  }
 },
 "nbformat": 4,
 "nbformat_minor": 5
}
