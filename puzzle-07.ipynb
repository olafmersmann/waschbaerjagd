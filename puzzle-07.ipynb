{
 "cells": [
  {
   "cell_type": "markdown",
   "id": "fbffc861-5888-40da-ae9d-99f90d7ed2d2",
   "metadata": {},
   "source": [
    "Passwort `galaxy`"
   ]
  },
  {
   "cell_type": "code",
   "execution_count": null,
   "id": "ff95140d-7947-4b61-b688-0108dfa2081b",
   "metadata": {},
   "outputs": [],
   "source": [
    "import math"
   ]
  },
  {
   "cell_type": "code",
   "execution_count": null,
   "id": "3af81a4a-daa1-430f-9a10-fd1c8257bb95",
   "metadata": {},
   "outputs": [],
   "source": [
    "pubkeys = [\n",
    "(536404821474377, 576912),\n",
    "(718740258131549, 869538),\n",
    "(669093696507757, 767652),\n",
    "(612847691740759, 335880),\n",
    "(625627063549307, 439296),\n",
    "(407950699074827, 66030),\n",
    "(675726471849361, 41623),\n",
    "(555414881928157, 153026),\n",
    "(497150863922137, 76500),\n",
    "(679624231700891, 49657)\n",
    "]"
   ]
  },
  {
   "cell_type": "code",
   "execution_count": null,
   "id": "0de5241b-f527-4ec7-89cb-7dfa1fc2cdb9",
   "metadata": {},
   "outputs": [],
   "source": [
    "for N, e in pubkeys:             \n",
    "    for p in range(5, int(math.sqrt(N)), 2):\n",
    "        if N % p == 0:\n",
    "            q = N // p\n",
    "            phi = (p - 1) * (q - 1)\n",
    "            if math.gcd(phi, e) == 1: # rel. prime\n",
    "                print(N, p, q, e)"
   ]
  },
  {
   "cell_type": "code",
   "execution_count": null,
   "id": "52672c02-2ab9-46a4-94f8-77fe0c2df46e",
   "metadata": {},
   "outputs": [],
   "source": [
    "e = 41623\n",
    "N = 675726471849361\n",
    "m = 4\n",
    "(m**e) % N"
   ]
  },
  {
   "cell_type": "code",
   "execution_count": null,
   "id": "5b9ff01e-f45a-4cc0-85bb-9048eadeadfd",
   "metadata": {},
   "outputs": [],
   "source": []
  }
 ],
 "metadata": {
  "kernelspec": {
   "display_name": "Python 3 (ipykernel)",
   "language": "python",
   "name": "python3"
  },
  "language_info": {
   "codemirror_mode": {
    "name": "ipython",
    "version": 3
   },
   "file_extension": ".py",
   "mimetype": "text/x-python",
   "name": "python",
   "nbconvert_exporter": "python",
   "pygments_lexer": "ipython3",
   "version": "3.10.9"
  }
 },
 "nbformat": 4,
 "nbformat_minor": 5
}
